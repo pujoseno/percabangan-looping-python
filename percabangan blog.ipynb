{
 "cells": [
  {
   "cell_type": "code",
   "execution_count": 3,
   "metadata": {},
   "outputs": [
    {
     "name": "stdout",
     "output_type": "stream",
     "text": [
      "total belanja: Rp 21000\n",
      "Selamat anda mendapatkan diskon\n",
      "terimakasih telah belanja\n"
     ]
    }
   ],
   "source": [
    "total_belanja = int(input(\"total belanja: Rp \"))\n",
    "bayar = total_belanja\n",
    "\n",
    "if total_belanja > 20000:\n",
    "    print(\"Selamat anda mendapatkan diskon\")\n",
    "print(\"terimakasih telah belanja\")\n",
    "    "
   ]
  },
  {
   "cell_type": "code",
   "execution_count": 7,
   "metadata": {},
   "outputs": [
    {
     "name": "stdout",
     "output_type": "stream",
     "text": [
      "total belanja: Rp 50000\n",
      "Selamat anda mendapatkan diskon\n",
      "terimakasih telah belanja\n"
     ]
    }
   ],
   "source": [
    "total_belanja = int(input(\"total belanja: Rp \"))\n",
    "bayar = total_belanja\n",
    "\n",
    "if total_belanja > 20000:\n",
    "    print(\"Selamat anda mendapatkan diskon\")\n",
    "    print(\"terimakasih telah belanja\")\n",
    "    \n",
    "else:\n",
    "    print(\"terimakasih telah belanja\")\n",
    "    "
   ]
  },
  {
   "cell_type": "code",
   "execution_count": null,
   "metadata": {},
   "outputs": [],
   "source": [
    "skor = int(input(\"Masukkan Skor: \"))\n",
    "\n",
    "if skor >= 90:\n",
    "    nilai = \"A\"\n",
    "elif skor >= 80:\n",
    "    nilai = \"B+\"\n",
    "elif skor >= 70:\n",
    "    nilai = \"C\"\n",
    "elif skor >= 60:\n",
    "    nilai = \"D\"\n",
    "elif skor >= 50:\n",
    "    nilai = \"E\"\n",
    "else:\n",
    "    nilai = \"F\"\n",
    "print(\"Nilai kamu: %s\" % nilai)"
   ]
  },
  {
   "cell_type": "code",
   "execution_count": null,
   "metadata": {},
   "outputs": [],
   "source": []
  }
 ],
 "metadata": {
  "kernelspec": {
   "display_name": "Python 3",
   "language": "python",
   "name": "python3"
  },
  "language_info": {
   "codemirror_mode": {
    "name": "ipython",
    "version": 3
   },
   "file_extension": ".py",
   "mimetype": "text/x-python",
   "name": "python",
   "nbconvert_exporter": "python",
   "pygments_lexer": "ipython3",
   "version": "3.6.6"
  }
 },
 "nbformat": 4,
 "nbformat_minor": 2
}
